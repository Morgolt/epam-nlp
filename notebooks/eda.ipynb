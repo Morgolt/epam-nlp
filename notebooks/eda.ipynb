{
 "cells": [
  {
   "cell_type": "code",
   "execution_count": 3,
   "metadata": {},
   "outputs": [
    {
     "name": "stdout",
     "output_type": "stream",
     "text": [
      "The autoreload extension is already loaded. To reload it, use:\n",
      "  %reload_ext autoreload\n"
     ]
    }
   ],
   "source": [
    "import pandas as pd\n",
    "from pathlib import Path\n",
    "from nltk.corpus import stopwords\n",
    "from hmmlearn.hmm import MultinomialHMM\n",
    "import nltk\n",
    "import string\n",
    "import re\n",
    "import seaborn as sns\n",
    "import gc\n",
    "import numpy as np\n",
    "from scipy.sparse import csr_matrix\n",
    "\n",
    "from seqlearn.evaluation import bio_f_score\n",
    "from seqlearn.hmm import MultinomialHMM\n",
    "from seqlearn.evaluation import SequenceKFold\n",
    "\n",
    "import epam_nlp as hw\n",
    "\n",
    "sns.set_context('talk', rc={'figure.figsize': (22, 18)})\n",
    "sns.set_style('darkgrid')\n",
    "\n",
    "%matplotlib inline \n",
    "%load_ext autoreload\n",
    "%autoreload 2"
   ]
  },
  {
   "cell_type": "code",
   "execution_count": 4,
   "metadata": {},
   "outputs": [],
   "source": [
    "DATA = Path('../data')\n",
    "PROCESSED = DATA / 'processed_voa.tsv'\n",
    "PUNCTUATION = list(string.punctuation)\n",
    "TARGET = 'iob_ner'"
   ]
  },
  {
   "cell_type": "code",
   "execution_count": 5,
   "metadata": {},
   "outputs": [],
   "source": [
    "def get_X_y_lengths(df: pd.DataFrame, cols_to_keep=None, sequence_column='seq', target=TARGET, one_hot=False):\n",
    "    if isinstance(sequence_column, str):\n",
    "        sequence_column = [sequence_column]\n",
    "    if cols_to_keep is None:\n",
    "        cols_to_keep = {}\n",
    "        \n",
    "    y = df[target].cat.codes.values.copy()\n",
    "    lengths = df.groupby(sequence_column, sort=False).count().iloc[:, 0].values\n",
    "    if target in cols_to_keep:\n",
    "        cols_to_keep.remove(target)\n",
    "    cols_to_drop = set(df.columns) - cols_to_keep\n",
    "    X = df.drop(cols_to_drop, axis=1)\n",
    "    if one_hot:\n",
    "        X = pd.get_dummies(X, dtype=np.bool, sparse=True)\n",
    "    else:\n",
    "        X = X.values if X.shape[1] > 1 else np.ravel(X.values)\n",
    "\n",
    "    return X, y, lengths"
   ]
  },
  {
   "cell_type": "code",
   "execution_count": 6,
   "metadata": {},
   "outputs": [],
   "source": [
    "def get_cv(X: np.ndarray, y: np.ndarray, lengths=None, n_folds=5):\n",
    "    if lengths is None:\n",
    "        lengths = X.shape[0]\n",
    "    kf = SequenceKFold(lengths=lengths, n_folds=n_folds)\n",
    "    for (train_ind, train_lengths, test_ind, test_lengths) in kf:\n",
    "        yield X[train_ind], train_lengths, y[train_ind], X[test_ind], test_lengths, y[test_ind]"
   ]
  },
  {
   "cell_type": "markdown",
   "metadata": {},
   "source": [
    "# Basic processing"
   ]
  },
  {
   "cell_type": "code",
   "execution_count": null,
   "metadata": {},
   "outputs": [],
   "source": [
    "df = pd.read_csv(PROCESSED, sep='\\t')\n",
    "df.sample(5)"
   ]
  },
  {
   "cell_type": "code",
   "execution_count": null,
   "metadata": {},
   "outputs": [],
   "source": [
    "df_without_punctuation = df[~df.token.isin(PUNCTUATION)].copy()"
   ]
  },
  {
   "cell_type": "code",
   "execution_count": null,
   "metadata": {},
   "outputs": [],
   "source": [
    "stopwords_index = ~df_without_punctuation.lemma.str.lower().isin(stopwords.words('english'))\n",
    "df_without_stopwords = df_without_punctuation[stopwords_index].copy()\n",
    "len(df_without_stopwords)"
   ]
  },
  {
   "cell_type": "code",
   "execution_count": null,
   "metadata": {},
   "outputs": [],
   "source": [
    "df_without_stopwords['shape'] = df.token.map(word_shape)"
   ]
  },
  {
   "cell_type": "code",
   "execution_count": null,
   "metadata": {},
   "outputs": [],
   "source": [
    "\n",
    "df_without_stopwords['stem'] = df_without_stopwords.lemma.map(lambda w: stem(w, stemmer))"
   ]
  },
  {
   "cell_type": "code",
   "execution_count": null,
   "metadata": {},
   "outputs": [],
   "source": [
    "df_without_stopwords.to_csv(DATA / 'basic_processing.csv', header=True, index=False)"
   ]
  },
  {
   "cell_type": "markdown",
   "metadata": {},
   "source": [
    "# EDA"
   ]
  },
  {
   "cell_type": "code",
   "execution_count": null,
   "metadata": {},
   "outputs": [],
   "source": [
    "g = sns.catplot(x='iob_ner', data=df_without_stopwords, kind='count', aspect=1.5, color='b')\n",
    "g.set_xticklabels(rotation=45);"
   ]
  },
  {
   "cell_type": "code",
   "execution_count": null,
   "metadata": {},
   "outputs": [],
   "source": [
    "g = sns.catplot(x='iob_ner', data=df_without_stopwords[df_without_stopwords.iob_ner != 'O'], \n",
    "                kind='count', aspect=1.5, color='b')\n",
    "g.set_xticklabels(rotation=45);"
   ]
  },
  {
   "cell_type": "markdown",
   "metadata": {},
   "source": [
    "# Baseline models"
   ]
  },
  {
   "cell_type": "markdown",
   "metadata": {},
   "source": [
    "## HMM"
   ]
  },
  {
   "cell_type": "code",
   "execution_count": 7,
   "metadata": {},
   "outputs": [
    {
     "data": {
      "text/html": [
       "<div>\n",
       "<style scoped>\n",
       "    .dataframe tbody tr th:only-of-type {\n",
       "        vertical-align: middle;\n",
       "    }\n",
       "\n",
       "    .dataframe tbody tr th {\n",
       "        vertical-align: top;\n",
       "    }\n",
       "\n",
       "    .dataframe thead th {\n",
       "        text-align: right;\n",
       "    }\n",
       "</style>\n",
       "<table border=\"1\" class=\"dataframe\">\n",
       "  <thead>\n",
       "    <tr style=\"text-align: right;\">\n",
       "      <th></th>\n",
       "      <th>token</th>\n",
       "      <th>pos</th>\n",
       "      <th>lemma</th>\n",
       "      <th>iob_ner</th>\n",
       "      <th>part</th>\n",
       "      <th>document</th>\n",
       "      <th>sentence</th>\n",
       "      <th>shape</th>\n",
       "      <th>stem</th>\n",
       "    </tr>\n",
       "  </thead>\n",
       "  <tbody>\n",
       "    <tr>\n",
       "      <th>710617</th>\n",
       "      <td>Iran</td>\n",
       "      <td>NNP</td>\n",
       "      <td>iran</td>\n",
       "      <td>B-geo</td>\n",
       "      <td>p98</td>\n",
       "      <td>d0119</td>\n",
       "      <td>3</td>\n",
       "      <td>Xxxx</td>\n",
       "      <td>iran</td>\n",
       "    </tr>\n",
       "  </tbody>\n",
       "</table>\n",
       "</div>"
      ],
      "text/plain": [
       "       token  pos lemma iob_ner part document  sentence shape  stem\n",
       "710617  Iran  NNP  iran   B-geo  p98    d0119         3  Xxxx  iran"
      ]
     },
     "execution_count": 7,
     "metadata": {},
     "output_type": "execute_result"
    }
   ],
   "source": [
    "train = pd.read_csv(DATA / 'basic_processing.csv')\n",
    "train.sample()"
   ]
  },
  {
   "cell_type": "code",
   "execution_count": 7,
   "metadata": {},
   "outputs": [],
   "source": [
    "train['seq'] = train.groupby(['document', 'part']).grouper.group_info[0]\n",
    "train = train.astype('category')"
   ]
  },
  {
   "cell_type": "code",
   "execution_count": 8,
   "metadata": {},
   "outputs": [
    {
     "name": "stdout",
     "output_type": "stream",
     "text": [
      "23879\n",
      "34898\n",
      "27073\n"
     ]
    }
   ],
   "source": [
    "print(train.stem.unique().shape[0])\n",
    "print(train.token.unique().shape[0])\n",
    "print(train.lemma.unique().shape[0])"
   ]
  },
  {
   "cell_type": "code",
   "execution_count": 20,
   "metadata": {},
   "outputs": [],
   "source": [
    "X, y, lengths = get_X_y_lengths(train, cols_to_keep={'token'}, one_hot=True)"
   ]
  },
  {
   "cell_type": "code",
   "execution_count": 21,
   "metadata": {},
   "outputs": [],
   "source": [
    "X_sparse = csr_matrix(X.to_coo())"
   ]
  },
  {
   "cell_type": "code",
   "execution_count": 22,
   "metadata": {},
   "outputs": [
    {
     "name": "stdout",
     "output_type": "stream",
     "text": [
      "Fold\tAccuracy\tF-score\n",
      "1\t0.854728880119165\t0.5355923788245516\n",
      "2\t0.855773879745489\t0.5421960351071012\n",
      "3\t0.8530248490478403\t0.531870590794667\n",
      "4\t0.8518389570700476\t0.5247295691865191\n",
      "5\t0.8571318001954316\t0.5334540007489702\n",
      "6\t0.8575255040371319\t0.5370654239990189\n",
      "7\t0.8574758671386842\t0.5441435865697045\n",
      "CV accuracy: 0.8553571053362558\n",
      "CV bio f-score: 0.5355787978900761\n"
     ]
    }
   ],
   "source": [
    "cv = SequenceKFold(lengths=lengths, n_folds=7)\n",
    "i = 1\n",
    "scores = []\n",
    "fscores = []\n",
    "print('Fold\\tAccuracy\\tF-score')\n",
    "for train_ind, train_len, test_ind, test_len in cv:\n",
    "    hmm = MultinomialHMM()\n",
    "    \n",
    "    train_x = X_sparse[train_ind]\n",
    "    train_y = y[train_ind]\n",
    "    \n",
    "    hmm.fit(train_x, y=train_y, lengths=train_len)\n",
    "    \n",
    "    test_x = X_sparse[test_ind]\n",
    "    test_y = y[test_ind]\n",
    "    score = hmm.score(test_x, test_y, test_len)\n",
    "\n",
    "    pred = hmm.predict(test_x, test_len)\n",
    "    str_true = np.asarray(pd.Categorical.from_codes(test_y, train[TARGET].cat.categories), dtype=str)\n",
    "    str_pred = np.asarray(pd.Categorical.from_codes(pred, train[TARGET].cat.categories), dtype=str)\n",
    "\n",
    "    fscore = bio_f_score(str_true, str_pred)\n",
    "    fscores.append(fscore)\n",
    "\n",
    "    print(f'{i}\\t{score}\\t{fscore}')\n",
    "    scores.append(score)\n",
    "    i += 1\n",
    "print(f'CV accuracy: {np.mean(scores)}')\n",
    "\n",
    "print(f'CV bio f-score: {np.mean(fscores)}')"
   ]
  },
  {
   "cell_type": "code",
   "execution_count": 5,
   "metadata": {},
   "outputs": [
    {
     "ename": "NameError",
     "evalue": "name 'y_test' is not defined",
     "traceback": [
      "\u001b[1;31m---------------------------------------------------------------------------\u001b[0m",
      "\u001b[1;31mNameError\u001b[0m                                 Traceback (most recent call last)",
      "\u001b[1;32m<ipython-input-5-4f30429c224a>\u001b[0m in \u001b[0;36m<module>\u001b[1;34m()\u001b[0m\n\u001b[1;32m----> 1\u001b[1;33m \u001b[0my_test\u001b[0m\u001b[1;33m.\u001b[0m\u001b[0mshape\u001b[0m\u001b[1;33m\u001b[0m\u001b[0m\n\u001b[0m",
      "\u001b[1;31mNameError\u001b[0m: name 'y_test' is not defined"
     ],
     "output_type": "error"
    }
   ],
   "source": [
    "y_test.shape"
   ]
  },
  {
   "cell_type": "code",
   "execution_count": null,
   "metadata": {},
   "outputs": [],
   "source": []
  }
 ],
 "metadata": {
  "kernelspec": {
   "display_name": "Python 3",
   "language": "python",
   "name": "python3"
  },
  "language_info": {
   "codemirror_mode": {
    "name": "ipython",
    "version": 3
   },
   "file_extension": ".py",
   "mimetype": "text/x-python",
   "name": "python",
   "nbconvert_exporter": "python",
   "pygments_lexer": "ipython3",
   "version": "3.6.6"
  }
 },
 "nbformat": 4,
 "nbformat_minor": 1
}
