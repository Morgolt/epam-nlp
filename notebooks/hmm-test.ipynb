{
 "cells": [
  {
   "cell_type": "code",
   "execution_count": 1,
   "metadata": {},
   "outputs": [],
   "source": [
    "from seqlearn.hmm import MultinomialHMM\n",
    "import pandas as pd\n",
    "from pathlib import Path\n",
    "import numpy as np\n",
    "from scipy.special import logsumexp\n",
    "from scipy.sparse import csr_matrix\n",
    "\n",
    "DATA = Path('../data')\n",
    "TARGET = 'iob_ner'"
   ]
  },
  {
   "cell_type": "code",
   "execution_count": 22,
   "metadata": {},
   "outputs": [],
   "source": [
    "def count_transitions(y):\n",
    "    num_state = np.unique(y).shape[0]\n",
    "    result = np.zeros((num_state, num_state), dtype=np.uint32)\n",
    "    for i in range(y.shape[0] - 1):\n",
    "        result[y[i], y[i + 1]] += 1\n",
    "    return result\n",
    "\n",
    "\n",
    "def compute_transition_probs(trans_counts, smoothing=None, alpha=None):\n",
    "    if smoothing == 'add' and alpha is not None:        \n",
    "        trans_counts = trans_counts + alpha\n",
    "    div = trans_counts.sum(axis=0)\n",
    "    return np.divide(trans_counts, div, where=div!=0)\n",
    "\n",
    "\n",
    "def check_X_ohe(X):\n",
    "    if X.min() != 0 or X.max() != 1 or X.unique().shape[0] != 2:\n",
    "        raise Exception('All features in X should be one hor encoded')\n",
    "\n",
    "\n",
    "def compute_emission_probs_ohe(X, y, smoothing=None, alpha=0.01):\n",
    "#     check_X_ohe(X)\n",
    "\n",
    "    classes, y = np.unique(y, return_inverse=True)\n",
    "    Y = y.reshape(-1, 1) == np.arange(len(classes))\n",
    "    counts = Y.T @ X\n",
    "    if smoothing == 'add' and alpha is not None:\n",
    "        counts = counts + alpha\n",
    "    div = counts.sum(axis=0)\n",
    "    return np.divide(counts, div, where=div != 0)\n",
    "\n",
    "\n",
    "def compute_emission_probs(X, y, smoothing=None, alpha=None):\n",
    "    num_features = np.unique(X).shape[0]\n",
    "    num_classes = np.unique(y).shape[0]\n",
    "    result = np.zeros((num_classes, num_features))\n",
    "    for word, tag in zip(X, y):\n",
    "        result[tag, word] += 1\n",
    "    if smoothing == 'add' and alpha is not None:\n",
    "        result = result + alpha\n",
    "    div = result.sum(axis=0)\n",
    "    return np.divide(result, div, where=div != 0)\n",
    "\n",
    "\n",
    "def compute_init_probs(y):\n",
    "    _, counts = np.unique(y, return_counts=True)\n",
    "    return counts / y.shape[0]"
   ]
  },
  {
   "cell_type": "code",
   "execution_count": 3,
   "metadata": {},
   "outputs": [],
   "source": [
    "def get_X_y_lengths(df: pd.DataFrame, cols_to_keep=None, sequence_column='seq', target=TARGET, one_hot=False):\n",
    "    if isinstance(sequence_column, str):\n",
    "        sequence_column = [sequence_column]\n",
    "    if cols_to_keep is None:\n",
    "        cols_to_keep = {}\n",
    "        \n",
    "    y = df[target].cat.codes.values.copy()\n",
    "    lengths = df.groupby(sequence_column, sort=False).count().iloc[:, 0].values\n",
    "    if target in cols_to_keep:\n",
    "        cols_to_keep.remove(target)\n",
    "    cols_to_drop = set(df.columns) - cols_to_keep\n",
    "    X = df.drop(cols_to_drop, axis=1)\n",
    "    if one_hot:\n",
    "        X = pd.get_dummies(X, dtype=np.bool, sparse=True)\n",
    "    else:\n",
    "        X = X.values if X.shape[1] > 1 else np.ravel(X.values)\n",
    "\n",
    "    return X, y, lengths"
   ]
  },
  {
   "cell_type": "code",
   "execution_count": 4,
   "metadata": {},
   "outputs": [
    {
     "data": {
      "text/html": [
       "<div>\n",
       "<style scoped>\n",
       "    .dataframe tbody tr th:only-of-type {\n",
       "        vertical-align: middle;\n",
       "    }\n",
       "\n",
       "    .dataframe tbody tr th {\n",
       "        vertical-align: top;\n",
       "    }\n",
       "\n",
       "    .dataframe thead th {\n",
       "        text-align: right;\n",
       "    }\n",
       "</style>\n",
       "<table border=\"1\" class=\"dataframe\">\n",
       "  <thead>\n",
       "    <tr style=\"text-align: right;\">\n",
       "      <th></th>\n",
       "      <th>token</th>\n",
       "      <th>pos</th>\n",
       "      <th>lemma</th>\n",
       "      <th>iob_ner</th>\n",
       "      <th>part</th>\n",
       "      <th>document</th>\n",
       "      <th>sentence</th>\n",
       "      <th>shape</th>\n",
       "      <th>stem</th>\n",
       "      <th>seq</th>\n",
       "    </tr>\n",
       "  </thead>\n",
       "  <tbody>\n",
       "    <tr>\n",
       "      <th>0</th>\n",
       "      <td>Thousands</td>\n",
       "      <td>NNS</td>\n",
       "      <td>thousand</td>\n",
       "      <td>O</td>\n",
       "      <td>p00</td>\n",
       "      <td>d0018</td>\n",
       "      <td>0</td>\n",
       "      <td>Xxxxxxxxx</td>\n",
       "      <td>thousand</td>\n",
       "      <td>1</td>\n",
       "    </tr>\n",
       "    <tr>\n",
       "      <th>1</th>\n",
       "      <td>demonstrators</td>\n",
       "      <td>NNS</td>\n",
       "      <td>demonstrator</td>\n",
       "      <td>O</td>\n",
       "      <td>p00</td>\n",
       "      <td>d0018</td>\n",
       "      <td>0</td>\n",
       "      <td>xxxxxxxxxxxxx</td>\n",
       "      <td>demonstr</td>\n",
       "      <td>1</td>\n",
       "    </tr>\n",
       "    <tr>\n",
       "      <th>2</th>\n",
       "      <td>marched</td>\n",
       "      <td>VBN</td>\n",
       "      <td>march</td>\n",
       "      <td>O</td>\n",
       "      <td>p00</td>\n",
       "      <td>d0018</td>\n",
       "      <td>0</td>\n",
       "      <td>xxxxxxx</td>\n",
       "      <td>march</td>\n",
       "      <td>1</td>\n",
       "    </tr>\n",
       "    <tr>\n",
       "      <th>3</th>\n",
       "      <td>London</td>\n",
       "      <td>NNP</td>\n",
       "      <td>london</td>\n",
       "      <td>B-geo</td>\n",
       "      <td>p00</td>\n",
       "      <td>d0018</td>\n",
       "      <td>0</td>\n",
       "      <td>Xxxxxx</td>\n",
       "      <td>london</td>\n",
       "      <td>1</td>\n",
       "    </tr>\n",
       "    <tr>\n",
       "      <th>4</th>\n",
       "      <td>protest</td>\n",
       "      <td>VB</td>\n",
       "      <td>protest</td>\n",
       "      <td>O</td>\n",
       "      <td>p00</td>\n",
       "      <td>d0018</td>\n",
       "      <td>0</td>\n",
       "      <td>xxxxxxx</td>\n",
       "      <td>protest</td>\n",
       "      <td>1</td>\n",
       "    </tr>\n",
       "  </tbody>\n",
       "</table>\n",
       "</div>"
      ],
      "text/plain": [
       "           token  pos         lemma iob_ner part document sentence  \\\n",
       "0      Thousands  NNS      thousand       O  p00    d0018        0   \n",
       "1  demonstrators  NNS  demonstrator       O  p00    d0018        0   \n",
       "2        marched  VBN         march       O  p00    d0018        0   \n",
       "3         London  NNP        london   B-geo  p00    d0018        0   \n",
       "4        protest   VB       protest       O  p00    d0018        0   \n",
       "\n",
       "           shape      stem seq  \n",
       "0      Xxxxxxxxx  thousand   1  \n",
       "1  xxxxxxxxxxxxx  demonstr   1  \n",
       "2        xxxxxxx     march   1  \n",
       "3         Xxxxxx    london   1  \n",
       "4        xxxxxxx   protest   1  "
      ]
     },
     "execution_count": 4,
     "metadata": {},
     "output_type": "execute_result"
    }
   ],
   "source": [
    "train = pd.read_csv(DATA / 'basic_processing.csv', nrows=10000)\n",
    "train['seq'] = train.groupby(['document', 'part']).grouper.group_info[0]\n",
    "train = train.astype('category')\n",
    "train.head()"
   ]
  },
  {
   "cell_type": "code",
   "execution_count": 71,
   "metadata": {},
   "outputs": [],
   "source": [
    "X, y, lengths = get_X_y_lengths(train, cols_to_keep={'token'}, one_hot=True)"
   ]
  },
  {
   "cell_type": "code",
   "execution_count": 72,
   "metadata": {},
   "outputs": [],
   "source": [
    "y_str = np.asarray(pd.Categorical.from_codes(y, train.iob_ner.cat.categories), dtype=str)"
   ]
  },
  {
   "cell_type": "code",
   "execution_count": 73,
   "metadata": {},
   "outputs": [
    {
     "data": {
      "text/plain": [
       "MultinomialHMM(alpha=0.01, decode='viterbi')"
      ]
     },
     "execution_count": 73,
     "metadata": {},
     "output_type": "execute_result"
    }
   ],
   "source": [
    "seqhmm = MultinomialHMM()\n",
    "seqhmm.fit(X, y_str, lengths=[X.shape[0]])"
   ]
  },
  {
   "cell_type": "code",
   "execution_count": null,
   "metadata": {},
   "outputs": [],
   "source": [
    "X_label, _, _ = get_X_y_lengths(train, cols_to_keep={'token'}, one_hot=False)\n",
    "X_idx = pd.Categorical(X_label).codes"
   ]
  },
  {
   "cell_type": "code",
   "execution_count": 70,
   "metadata": {},
   "outputs": [
    {
     "data": {
      "text/plain": [
       "array([[-9.675143  , -4.76217393, -6.03308622, ..., -4.76217393,\n",
       "        -4.76217393, -4.76217393],\n",
       "       [-9.675143  , -4.76217393, -6.03308622, ..., -4.76217393,\n",
       "        -4.76217393, -4.76217393],\n",
       "       [-9.675143  , -4.76217393, -6.03308622, ..., -4.76217393,\n",
       "        -4.76217393, -4.76217393],\n",
       "       ...,\n",
       "       [-9.675143  , -4.76217393, -6.03308622, ..., -4.76217393,\n",
       "        -4.76217393, -4.76217393],\n",
       "       [-9.675143  , -4.76217393, -1.4179657 , ..., -4.76217393,\n",
       "        -4.76217393, -4.76217393],\n",
       "       [-0.02005271, -0.14705342, -0.32597596, ..., -0.14705342,\n",
       "        -0.14705342, -0.14705342]])"
      ]
     },
     "execution_count": 70,
     "metadata": {},
     "output_type": "execute_result"
    }
   ],
   "source": [
    "np.log(compute_emission_probs(X_idx, y, smoothing='add', alpha=0.01))"
   ]
  },
  {
   "cell_type": "code",
   "execution_count": 62,
   "metadata": {},
   "outputs": [],
   "source": [
    "X = X.astype(np.uint8)\n",
    "Y = Y.astype(np.uint8)"
   ]
  },
  {
   "cell_type": "code",
   "execution_count": 66,
   "metadata": {},
   "outputs": [],
   "source": [
    "logf = np.log(Y.T @ X + 0.01)\n",
    "logf -= logsumexp(logf, axis=0)"
   ]
  },
  {
   "cell_type": "code",
   "execution_count": 67,
   "metadata": {},
   "outputs": [
    {
     "data": {
      "text/plain": [
       "array([[-9.675143  , -4.76217393, -6.03308622, ..., -4.76217393,\n",
       "        -4.76217393, -4.76217393],\n",
       "       [-9.675143  , -4.76217393, -6.03308622, ..., -4.76217393,\n",
       "        -4.76217393, -4.76217393],\n",
       "       [-9.675143  , -4.76217393, -6.03308622, ..., -4.76217393,\n",
       "        -4.76217393, -4.76217393],\n",
       "       ...,\n",
       "       [-9.675143  , -4.76217393, -6.03308622, ..., -4.76217393,\n",
       "        -4.76217393, -4.76217393],\n",
       "       [-9.675143  , -4.76217393, -1.4179657 , ..., -4.76217393,\n",
       "        -4.76217393, -4.76217393],\n",
       "       [-0.02005271, -0.14705342, -0.32597596, ..., -0.14705342,\n",
       "        -0.14705342, -0.14705342]])"
      ]
     },
     "execution_count": 67,
     "metadata": {},
     "output_type": "execute_result"
    }
   ],
   "source": [
    "logf"
   ]
  },
  {
   "cell_type": "code",
   "execution_count": 76,
   "metadata": {},
   "outputs": [
    {
     "data": {
      "text/plain": [
       "array([[-5.37989735, -4.76217393, -5.37989735, ..., -4.76217393,\n",
       "        -4.76217393, -4.76217393],\n",
       "       [-5.37989735, -4.76217393, -5.37989735, ..., -4.76217393,\n",
       "        -4.76217393, -4.76217393],\n",
       "       [-5.37989735, -4.76217393, -5.37989735, ..., -4.76217393,\n",
       "        -4.76217393, -4.76217393],\n",
       "       ...,\n",
       "       [-5.37989735, -4.76217393, -5.37989735, ..., -4.76217393,\n",
       "        -4.76217393, -4.76217393],\n",
       "       [-5.37989735, -4.76217393, -0.76477684, ..., -4.76217393,\n",
       "        -4.76217393, -4.76217393],\n",
       "       [-0.76477684, -0.14705342, -0.76477684, ..., -0.14705342,\n",
       "        -0.14705342, -0.14705342]])"
      ]
     },
     "execution_count": 76,
     "metadata": {},
     "output_type": "execute_result"
    }
   ],
   "source": [
    "seqhmm.coef_"
   ]
  },
  {
   "cell_type": "code",
   "execution_count": 91,
   "metadata": {},
   "outputs": [],
   "source": [
    "lengths = np.array([int(len(y) * 0.2), int(len(y) * 0.8)])\n",
    "lengths = np.array([len(y)])"
   ]
  },
  {
   "cell_type": "code",
   "execution_count": 94,
   "metadata": {},
   "outputs": [
    {
     "data": {
      "text/plain": [
       "array([0])"
      ]
     },
     "execution_count": 94,
     "metadata": {},
     "output_type": "execute_result"
    }
   ],
   "source": [
    "end = np.cumsum(lengths)\n",
    "start = end - lengths\n",
    "start"
   ]
  },
  {
   "cell_type": "code",
   "execution_count": 95,
   "metadata": {},
   "outputs": [
    {
     "data": {
      "text/plain": [
       "array([[0, 0, 0, 0, 0, 0, 0, 0, 0, 0, 0, 0, 0, 0, 0, 0, 1]], dtype=uint8)"
      ]
     },
     "execution_count": 95,
     "metadata": {},
     "output_type": "execute_result"
    }
   ],
   "source": [
    "Y[start]"
   ]
  },
  {
   "cell_type": "code",
   "execution_count": 130,
   "metadata": {},
   "outputs": [],
   "source": [
    "x_test = np.random.randint(0, 5, 10)\n",
    "y_test = np.random.randint(0, 3, 10)"
   ]
  },
  {
   "cell_type": "code",
   "execution_count": 138,
   "metadata": {},
   "outputs": [
    {
     "data": {
      "text/plain": [
       "array([4, 2, 1, 2, 0, 0, 1, 4, 3, 0])"
      ]
     },
     "execution_count": 138,
     "metadata": {},
     "output_type": "execute_result"
    }
   ],
   "source": [
    "x_test"
   ]
  },
  {
   "cell_type": "code",
   "execution_count": 131,
   "metadata": {},
   "outputs": [
    {
     "data": {
      "text/plain": [
       "array([[False, False, False, False,  True],\n",
       "       [False, False,  True, False, False],\n",
       "       [False,  True, False, False, False],\n",
       "       [False, False,  True, False, False],\n",
       "       [ True, False, False, False, False],\n",
       "       [ True, False, False, False, False],\n",
       "       [False,  True, False, False, False],\n",
       "       [False, False, False, False,  True],\n",
       "       [False, False, False,  True, False],\n",
       "       [ True, False, False, False, False]])"
      ]
     },
     "execution_count": 131,
     "metadata": {},
     "output_type": "execute_result"
    }
   ],
   "source": [
    "X_test = x_test.reshape(-1, 1) == np.arange(5)\n",
    "X_test"
   ]
  },
  {
   "cell_type": "code",
   "execution_count": 132,
   "metadata": {},
   "outputs": [
    {
     "data": {
      "text/plain": [
       "array([2, 1, 0, 1, 1, 2, 2, 2, 0, 1])"
      ]
     },
     "execution_count": 132,
     "metadata": {},
     "output_type": "execute_result"
    }
   ],
   "source": [
    "y_test"
   ]
  },
  {
   "cell_type": "code",
   "execution_count": 133,
   "metadata": {},
   "outputs": [
    {
     "data": {
      "text/plain": [
       "MultinomialHMM(alpha=0.01, decode='viterbi')"
      ]
     },
     "execution_count": 133,
     "metadata": {},
     "output_type": "execute_result"
    }
   ],
   "source": [
    "hmm_test = MultinomialHMM()\n",
    "hmm_test.fit(X_test, y_test, [len(y_test)])"
   ]
  },
  {
   "cell_type": "code",
   "execution_count": 134,
   "metadata": {},
   "outputs": [
    {
     "data": {
      "text/plain": [
       "array([[0.00492611, 0.49753695, 0.00970874, 0.98058252, 0.00970874],\n",
       "       [0.49753695, 0.00492611, 0.98058252, 0.00970874, 0.00970874],\n",
       "       [0.49753695, 0.49753695, 0.00970874, 0.00970874, 0.98058252]])"
      ]
     },
     "execution_count": 134,
     "metadata": {},
     "output_type": "execute_result"
    }
   ],
   "source": [
    "np.exp(hmm_test.coef_)"
   ]
  },
  {
   "cell_type": "code",
   "execution_count": 135,
   "metadata": {},
   "outputs": [
    {
     "data": {
      "text/plain": [
       "array([[0.00492611, 0.49875931, 0.00330033],\n",
       "       [0.49753695, 0.25062035, 0.33333333],\n",
       "       [0.49753695, 0.25062035, 0.66336634]])"
      ]
     },
     "execution_count": 135,
     "metadata": {},
     "output_type": "execute_result"
    }
   ],
   "source": [
    "np.exp(hmm_test.intercept_trans_)"
   ]
  },
  {
   "cell_type": "code",
   "execution_count": 136,
   "metadata": {},
   "outputs": [
    {
     "data": {
      "text/plain": [
       "array([0.00970874, 0.00970874, 0.98058252])"
      ]
     },
     "execution_count": 136,
     "metadata": {},
     "output_type": "execute_result"
    }
   ],
   "source": [
    "np.exp(hmm_test.intercept_init_)"
   ]
  },
  {
   "cell_type": "code",
   "execution_count": 137,
   "metadata": {},
   "outputs": [
    {
     "data": {
      "text/plain": [
       "array([2, 0, 1, 0])"
      ]
     },
     "execution_count": 137,
     "metadata": {},
     "output_type": "execute_result"
    }
   ],
   "source": [
    "XT = np.array([0, 1, 2, 3]).reshape(-1, 1) == np.arange(5)\n",
    "hmm_test.predict(XT)"
   ]
  },
  {
   "cell_type": "code",
   "execution_count": 127,
   "metadata": {},
   "outputs": [
    {
     "data": {
      "text/plain": [
       "False"
      ]
     },
     "execution_count": 127,
     "metadata": {},
     "output_type": "execute_result"
    }
   ],
   "source": [
    "(np.unique(XT) == np.array([1, 0])).all()"
   ]
  },
  {
   "cell_type": "code",
   "execution_count": 129,
   "metadata": {},
   "outputs": [
    {
     "data": {
      "text/plain": [
       "True"
      ]
     },
     "execution_count": 129,
     "metadata": {},
     "output_type": "execute_result"
    }
   ],
   "source": [
    "XT.min() == 0"
   ]
  },
  {
   "cell_type": "code",
   "execution_count": null,
   "metadata": {},
   "outputs": [],
   "source": []
  }
 ],
 "metadata": {
  "kernelspec": {
   "display_name": "Python 3",
   "language": "python",
   "name": "python3"
  },
  "language_info": {
   "codemirror_mode": {
    "name": "ipython",
    "version": 3
   },
   "file_extension": ".py",
   "mimetype": "text/x-python",
   "name": "python",
   "nbconvert_exporter": "python",
   "pygments_lexer": "ipython3",
   "version": "3.6.6"
  }
 },
 "nbformat": 4,
 "nbformat_minor": 2
}
